{
  "cells": [
    {
      "cell_type": "code",
      "source": [
        "# @title Instalar dependencias\n",
        "\n",
        "r = \"Retrieval\"\n",
        "b = \"based\"\n",
        "v = \"Voice\"\n",
        "c = \"Conversion\"\n",
        "w = \"WebUI\"\n",
        "\n",
        "![ -d /content/rvc ] || git clone https://github.com/RVC-Project/{\"-\".join([r,b,v,c,w])}\n",
        "!mv /content/{\"-\".join([r,b,v,c,w])} /content/rvc\n",
        "%cd /content/rvc\n",
        "!rm {\"_\".join([r,b,v,c,w])}*.ipynb\n",
        "\n",
        "# Definir python 3.10 como predeterminado\n",
        "!rm /usr/local/bin/python\n",
        "!ln -s /bin/python3.10 /usr/local/bin/python\n",
        "!wget https://bootstrap.pypa.io/get-pip.py\n",
        "!python get-pip.py\n",
        "!rm get-pip.py\n",
        "!python -m pip install \"pip<24.1\"\n",
        "\n",
        "!cat requirements.txt | grep -v {\"\".join([\"g\",\"r\",\"a\",\"d\",\"i\",\"o\"])} > requirements2.txt\n",
        "!pip install -q -r requirements2.txt\n",
        "!pip uninstall -y torch torchaudio\n",
        "!pip install torch==2.5.1 torchaudio --index-url https://download.pytorch.org/whl/cu118\n",
        "\n",
        "# Descargar modelos pre-entrenados\n",
        "aria2c = 'aria2c --console-log-level=error -c -x 16 -s 16 -k 1M'\n",
        "%cd assets\n",
        "hugging_user = \"\".join([\"l\", \"j\", \"1995\"])\n",
        "huggingface_repo = f\"https://huggingface.co/{hugging_user}/{v + c + w}/resolve/main/\"\n",
        "!{aria2c} {huggingface_repo}hubert_base.pt -d hubert -o hubert_base.pt\n",
        "!{aria2c} {huggingface_repo}rmvpe.pt -d rmvpe -o rmvpe.pt\n",
        "!{aria2c} {huggingface_repo}uvr5_weights/onnx_dereverb_By_FoxJoy/vocals.onnx -d uvr5_weights/onnx_dereverb_By_FoxJoy -o vocals.onnx\n",
        "for model in ['D', 'G', 'f0D', 'f0G']:\n",
        "  !{aria2c} {huggingface_repo}pretrained_v2/{model}48k.pth -d pretrained_v2 -o {model}48k.pth\n",
        "for model in [\n",
        "        \"HP2-%E4%BA%BA%E5%A3%B0vocals%2B%E9%9D%9E%E4%BA%BA%E5%A3%B0instrumentals\",\n",
        "        \"HP2_all_vocals\",\n",
        "        \"HP3_all_vocals\",\n",
        "        \"HP5-%E4%B8%BB%E6%97%8B%E5%BE%8B%E4%BA%BA%E5%A3%B0vocals%2B%E5%85%B6%E4%BB%96instrumentals\",\n",
        "        \"HP5_only_main_vocal\",\n",
        "        \"VR-DeEchoAggressive\",\n",
        "        \"VR-DeEchoDeReverb\",\n",
        "        \"VR-DeEchoNormal\",\n",
        "]:\n",
        "  !{aria2c} {huggingface_repo}uvr5_weights/{model}.pth -d uvr5_weights -o {model}.pth\n",
        "%cd ..\n",
        "\n",
        "!rm -r /content/sample_data\n",
        "\n",
        "from IPython.display import clear_output\n",
        "clear_output(wait=True)\n",
        "print(\"\\n---------------------------\\n| Dependencias instaladas |\\n---------------------------\\n\")"
      ],
      "metadata": {
        "id": "QkpvQX2QnfrG"
      },
      "execution_count": null,
      "outputs": []
    },
    {
      "cell_type": "code",
      "source": [
        "# @title Conectar con Google Drive (Opcional)\n",
        "\n",
        "from google.colab import drive\n",
        "drive.mount(\"/content/drive\")"
      ],
      "metadata": {
        "id": "34NYesm-sfd8"
      },
      "execution_count": null,
      "outputs": []
    },
    {
      "cell_type": "code",
      "source": [
        "# @title Descargar carpeta de google drive por URL (Opcional)\n",
        "\n",
        "URL = \"https://drive.google.com/drive/folders/1mx2ZjK3hrKHmj8RbAVkaehBVSx7Hie0M\" # @param {type:\"string\"}\n",
        "\n",
        "!mkdir /content/dataset\n",
        "%cd /content/dataset\n",
        "!gdown --folder \"{URL}\"\n",
        "%cd /content/rvc"
      ],
      "metadata": {
        "id": "udS4W4J-UHkG"
      },
      "execution_count": null,
      "outputs": []
    },
    {
      "cell_type": "code",
      "source": [
        "# @title Configurar modelo\n",
        "from torch import cuda\n",
        "\n",
        "NOMBRE_DEL_MODELO = \"xadii\"  # @param {type:\"string\"}\n",
        "NUMERO_DE_HILOS = 2  # @param {type:\"slider\", min:1, max:16, step:1}\n",
        "\n",
        "# aliases de variables de español a ingles\n",
        "MODELNAME = NOMBRE_DEL_MODELO\n",
        "THREADCOUNT = NUMERO_DE_HILOS\n",
        "\n",
        "DATASET_DIR = f\"logs/{MODELNAME}\"\n",
        "![ -d {DATASET_DIR} ] || mkdir -p {DATASET_DIR}\n",
        "!echo BATCHSIZE recomendado: {int((cuda.get_device_properties(0).total_memory / 1024 / 1024 / 1024 + 0.4) // 2)}"
      ],
      "metadata": {
        "id": "EaYCz42ZDRnm"
      },
      "execution_count": null,
      "outputs": []
    },
    {
      "cell_type": "code",
      "source": [
        "# @title Procesar clips de audio\n",
        "\n",
        "DIRECTORIO_CLIPS_AUDIO = \"/content/drive/MyDrive/xado audios/wav pero igual esta MAL\" # @param {type: \"string\"}\n",
        "PROCESAR_EN_PARALELO = False  # @param {type: \"boolean\"}\n",
        "PREPROCESS_PER = \"3.0\" # @param [ \"3.0\", \"3.7\" ]\n",
        "SAMPLE_RATE = 48000\n",
        "\n",
        "# aliases de variables de español a ingles\n",
        "NOPARALLEL = not PROCESAR_EN_PARALELO\n",
        "PREPROCESS_PER = float(PREPROCESS_PER)\n",
        "\n",
        "!python infer/modules/train/preprocess.py \"{DIRECTORIO_CLIPS_AUDIO}\" {SAMPLE_RATE} {THREADCOUNT} {DATASET_DIR} {NOPARALLEL} {PREPROCESS_PER}"
      ],
      "metadata": {
        "id": "2smhvUfZ-IQv"
      },
      "execution_count": null,
      "outputs": []
    },
    {
      "cell_type": "code",
      "source": [
        "# @title Extraer caracteristicas del modelo\n",
        "\n",
        "ALGORITMO = \"rmvpe_gpu\"  # @param [ \"pm\", \"dio\", \"harvest\", \"rmvpe\", \"rmvpe_gpu\"]\n",
        "IS_HALF = True # @param {\"type\": \"boolean\"}\n",
        "\n",
        "if ALGORITMO != \"rmvpe_gpu\":\n",
        "  !python infer/modules/train/extract/extract_f0_print.py {DATASET_DIR} {THREADCOUNT} {ALGORITMO}\n",
        "else:\n",
        "  !python infer/modules/train/extract/extract_f0_rmvpe.py 1 0 0 {DATASET_DIR} {IS_HALF}\n",
        "!python infer/modules/train/extract_feature_print.py \"cuda\" 1 0 0 {DATASET_DIR} \"v2\" {IS_HALF}"
      ],
      "metadata": {
        "id": "6ex0QbcsEII6"
      },
      "execution_count": null,
      "outputs": []
    },
    {
      "cell_type": "code",
      "source": [
        "# @title Entrenar modelo\n",
        "\n",
        "NUMERO_DE_PASOS = 1000 # @param {type:\"integer\"}\n",
        "# @markdown Cada cuantos pasos se deberia guardar el modelo en disco en caso de fallos:\n",
        "GUARDAR_PASOS = 100 # @param {type:\"integer\"}\n",
        "BATCHSIZE = 7  # @param {type:\"slider\", min:1, max:32, step:1}\n",
        "# @markdown Guardar cache del entrenamiento en vram (solo recomendado para entrenamientos con menos de 10 minutos de audio)\n",
        "CACHE_EN_VRAM = False  # @param {type:\"boolean\"}\n",
        "# @markdown Solamente guardar el ultimo ckpt para ahorrar espacio en disco\n",
        "ULTIMO_CKPT = True  # @param {type:\"boolean\"}\n",
        "\n",
        "# aliases de variables de español a ingles\n",
        "MODELEPOCH = NUMERO_DE_PASOS\n",
        "EPOCHSAVE = GUARDAR_PASOS\n",
        "\n",
        "# convertir variables del form para ser leibles por los scripts\n",
        "MODELSAMPLE = \"48k\"\n",
        "CACHEDATA = int(CACHE_EN_VRAM)\n",
        "ONLYLATEST = int(ULTIMO_CKPT)\n",
        "\n",
        "!python infer/modules/train/train.py -e {MODELNAME} -sr {MODELSAMPLE} -f0 1 -bs {BATCHSIZE} -g 0 -te {MODELEPOCH} -se {EPOCHSAVE} -pg pretrained_v2/f0G{MODELSAMPLE}.pth -pd pretrained_v2/f0D{MODELSAMPLE}.pth -l {ONLYLATEST} -c {CACHEDATA} -v \"v2\""
      ],
      "metadata": {
        "id": "NcH8gg_9tD5X"
      },
      "execution_count": null,
      "outputs": []
    }
  ],
  "metadata": {
    "colab": {
      "name": "RVC-alternativo-español",
      "private_outputs": true,
      "provenance": []
    },
    "kernelspec": {
      "display_name": "Python 3",
      "name": "python3"
    },
    "accelerator": "GPU",
    "gpuClass": "standard"
  },
  "nbformat": 4,
  "nbformat_minor": 0
}
