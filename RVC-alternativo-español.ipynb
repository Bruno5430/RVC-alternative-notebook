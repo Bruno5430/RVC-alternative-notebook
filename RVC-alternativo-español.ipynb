{
  "cells": [
    {
      "cell_type": "code",
      "source": [
        "# @title Instalar dependencias\n",
        "\n",
        "r = \"Retrieval\"\n",
        "b = \"based\"\n",
        "v = \"Voice\"\n",
        "c = \"Conversion\"\n",
        "w = \"WebUI\"\n",
        "\n",
        "!git clone https://github.com/RVC-Project/{\"-\".join([r,b,v,c,w])}\n",
        "!mv {\"-\".join([r,b,v,c,w])} rvc\n",
        "%cd rvc\n",
        "!rm {\"_\".join([r,b,v,c,w])}*.ipynb\n",
        "\n",
        "!pip install -q -r requirements.txt\n",
        "!apt install -qq aria2\n",
        "\n",
        "# Descargar modelos pre-entrenados\n",
        "aria2c = 'aria2c --console-log-level=error -c -x 16 -s 16 -k 1M'\n",
        "%cd assets\n",
        "hugging_user = \"\".join([\"l\", \"j\", \"1995\"])\n",
        "huggingface_repo = f\"https://huggingface.co/{hugging_user}/{v + c + w}/resolve/main/\"\n",
        "!{aria2c} {huggingface_repo}hubert_base.pt -d hubert -o hubert_base.pt\n",
        "!{aria2c} {huggingface_repo}rmvpe.pt -d rmvpe -o rmvpe.pt\n",
        "!{aria2c} {huggingface_repo}uvr5_weights/onnx_dereverb_By_FoxJoy/vocals.onnx -d uvr5_weights/onnx_dereverb_By_FoxJoy -o vocals.onnx\n",
        "for model in ['D', 'G', 'f0D', 'f0G']:\n",
        "  !{aria2c} {huggingface_repo}pretrained_v2/{model}48k.pth -d pretrained_v2 -o {model}48k.pth\n",
        "for model in [\n",
        "        \"HP2-%E4%BA%BA%E5%A3%B0vocals%2B%E9%9D%9E%E4%BA%BA%E5%A3%B0instrumentals\",\n",
        "        \"HP2_all_vocals\",\n",
        "        \"HP3_all_vocals\",\n",
        "        \"HP5-%E4%B8%BB%E6%97%8B%E5%BE%8B%E4%BA%BA%E5%A3%B0vocals%2B%E5%85%B6%E4%BB%96instrumentals\",\n",
        "        \"HP5_only_main_vocal\",\n",
        "        \"VR-DeEchoAggressive\",\n",
        "        \"VR-DeEchoDeReverb\",\n",
        "        \"VR-DeEchoNormal\",\n",
        "]:\n",
        "  !{aria2c} {huggingface_repo}uvr5_weights/{model}.pth -d uvr5_weights -o {model}.pth\n",
        "%cd ..\n",
        "\n",
        "!rm -r /content/sample_data\n",
        "!mkdir -p dataset/{raw,split,clean}\n",
        "\n",
        "from IPython.display import clear_output\n",
        "clear_output(wait=True)\n",
        "print(\"\\n---------------------------\\n| Dependencias instaladas |\\n---------------------------\\n\")"
      ],
      "metadata": {
        "id": "QkpvQX2QnfrG"
      },
      "execution_count": null,
      "outputs": []
    },
    {
      "cell_type": "code",
      "source": [
        "# @title Conectar con Google Drive (Opcional)\n",
        "\n",
        "from google.colab import drive\n",
        "drive.mount(\"/content/drive\")"
      ],
      "metadata": {
        "id": "34NYesm-sfd8"
      },
      "execution_count": null,
      "outputs": []
    },
    {
      "cell_type": "code",
      "source": [
        "# @title Entrenar modelo\n",
        "\n",
        "NOMBRE_DEL_MODELO = \"xadii\"  # @param {type:\"string\"}\n",
        "NUMERO_DE_PASOS = 1000 # @param {type:\"integer\"}\n",
        "# @markdown Cada cuantos pasos se deberia guardar el modelo en disco en caso de fallos:\n",
        "GUARDAR_PASOS = 100 # @param {type:\"integer\"}\n",
        "SAMPLE_RATE = 48000\n",
        "NUMERO_DE_HILOS = 8  # @param {type:\"integer\"}\n",
        "ALGORITMO = \"harvest\"  # @param [ \"pm\", \"dio\", \"harvest\" ]\n",
        "BATCHSIZE = 32  # @param {type:\"slider\", min:0, max:40, step:1}\n",
        "# @markdown Guardar cache del entrenamiento en vram (solo recomendado para entrenamientos con menos de 10 minutos de audio)\n",
        "CACHE_EN_VRAM = False  # @param {type:\"boolean\"}\n",
        "# @markdown Solamente guardar el ultimo ckpt para ahorrar espacio en disco\n",
        "ULTIMO_CKPT = True  # @param {type:\"boolean\"}\n",
        "\n",
        "# aliases de variables de español a ingles\n",
        "MODELNAME = NOMBRE_DEL_MODELO\n",
        "MODELEPOCH = NUMERO_DE_PASOS\n",
        "EPOCHSAVE = GUARDAR_PASOS\n",
        "THREADCOUNT = NUMERO_DE_HILOS\n",
        "ALGO = ALGORITMO\n",
        "\n",
        "# convertir variables del form para ser leibles por los scripts\n",
        "MODELSAMPLE = str(SAMPLE_RATE // 1000) + \"k\"\n",
        "CACHEDATA = int(CACHE_EN_VRAM)\n",
        "ONLYLATEST = int(ULTIMO_CKPT)\n",
        "\n",
        "!python3 trainset_preprocess_pipeline_print.py dataset/clean {BITRATE} {THREADCOUNT} logs/{MODELNAME} True\n",
        "!python3 extract_f0_print.py logs/{MODELNAME} {THREADCOUNT} {ALGO}\n",
        "!python3 extract_feature_print.py cpu 1 0 0 logs/{MODELNAME}\n",
        "!python3 train_nsf_sim_cache_sid_load_pretrain.py -e {MODELNAME} -sr {MODELSAMPLE} -f0 1 -bs {BATCHSIZE} -g 0 -te {MODELEPOCH} -se {EPOCHSAVE} -pg pretrained/f0G{MODELSAMPLE}.pth -pd pretrained/f0D{MODELSAMPLE}.pth -l {ONLYLATEST} -c {CACHEDATA}"
      ],
      "metadata": {
        "id": "NcH8gg_9tD5X"
      },
      "execution_count": null,
      "outputs": []
    }
  ],
  "metadata": {
    "colab": {
      "name": "RVC-alternativo-español",
      "private_outputs": true,
      "provenance": []
    },
    "kernelspec": {
      "display_name": "Python 3",
      "name": "python3"
    },
    "accelerator": "GPU",
    "gpuClass": "standard"
  },
  "nbformat": 4,
  "nbformat_minor": 0
}
