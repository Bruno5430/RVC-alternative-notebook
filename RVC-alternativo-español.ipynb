{
  "cells": [
    {
      "cell_type": "code",
      "source": [
        "# @title Instalar dependencias\n",
        "\n",
        "!git clone https://github.com/RVC-Project/Retrieval-based-Voice-Conversion-WebUI\n",
        "%cd Retrieval-based-Voice-Conversion-WebUI\n",
        "\n",
        "!pip install -q -r requirements.txt\n",
        "!apt install -qq aria2\n",
        "\n",
        "huggingface_repo = \"https://huggingface.co/lj1995/VoiceConversionWebUI/resolve/main/\"\n",
        "!aria2c --console-log-level=error -c -x 16 -s 16 -k 1M {huggingface_repo}hubert_base.pt -o hubert_base.pt\n",
        "\n",
        "!rm -r /content/sample_data\n",
        "!mkdir pretrained\n",
        "!mkdir -p dataset/{raw,split,clean}\n",
        "\n",
        "from IPython.display import clear_output\n",
        "clear_output(wait=True)\n",
        "print(\"\\n---------------------------\\n| Dependencias instaladas |\\n---------------------------\\n\")"
      ],
      "metadata": {
        "id": "QkpvQX2QnfrG"
      },
      "execution_count": null,
      "outputs": []
    },
    {
      "cell_type": "code",
      "source": [
        "# @title Descargar modelos pre-entrenados\n",
        "MODEL_VERSION = \"v0\" # @param [\"v0\", \"v2\"]\n",
        "SAMPLE_RATE = \"48k\" # @param [ \"32k\", \"40k\", \"48k\" ]\n",
        "\n",
        "for model in ['D', 'G', 'f0D', 'f0G']:\n",
        "  !aria2c --console-log-level=error -c -x 16 -s 16 -k 1M {huggingface_repo}pretrained_{MODEL_VERSION}/{model + SAMPLE_RATE}.pth -d pretrained -o {model + SAMPLE_RATE}.pth"
      ],
      "metadata": {
        "id": "7uoMOsfXsT-T"
      },
      "execution_count": null,
      "outputs": []
    },
    {
      "cell_type": "code",
      "source": [
        "# @title Conectar con Google Drive (Opcional)\n",
        "\n",
        "from google.colab import drive\n",
        "drive.mount(\"/content/drive\")"
      ],
      "metadata": {
        "id": "34NYesm-sfd8"
      },
      "execution_count": null,
      "outputs": []
    },
    {
      "cell_type": "code",
      "source": [
        "# @title Usar la interfaz web\n",
        "!python infer-web.py --colab"
      ],
      "metadata": {
        "id": "0KjV_rVKs3_U"
      },
      "execution_count": null,
      "outputs": []
    },
    {
      "cell_type": "code",
      "source": [
        "# @title Entrenar la IA manualmente (Avanzado)\n",
        "\n",
        "NOMBRE_DEL_MODELO = \"xadii\"  # @param {type:\"string\"}\n",
        "NUMERO_DE_PASOS = 1000 # @param {type:\"integer\"}\n",
        "# @markdown Cada cuantos pasos se deberia guardar el modelo en disco en caso de fallos:\n",
        "GUARDAR_PASOS = 100 # @param {type:\"integer\"}\n",
        "SAMPLE_RATE = 48000  # @param [32000, 40000, 48000]\n",
        "NUMERO_DE_HILOS = 8  # @param {type:\"integer\"}\n",
        "ALGORITMO = \"harvest\"  # @param [ \"pm\", \"dio\", \"harvest\" ]\n",
        "BATCHSIZE = 32  # @param {type:\"slider\", min:0, max:40, step:1}\n",
        "# @markdown Guardar cache del entrenamiento en vram (solo recomendado para entrenamientos con menos de 10 minutos de audio)\n",
        "CACHE_EN_VRAM = False  # @param {type:\"boolean\"}\n",
        "# @markdown Solamente guardar el ultimo ckpt para ahorrar espacio en disco\n",
        "ULTIMO_CKPT = True  # @param {type:\"boolean\"}\n",
        "\n",
        "# aliases de variables de español a ingles\n",
        "MODELNAME = NOMBRE_DEL_MODELO\n",
        "MODELEPOCH = NUMERO_DE_PASOS\n",
        "EPOCHSAVE = GUARDAR_PASOS\n",
        "THREADCOUNT = NUMERO_DE_HILOS\n",
        "ALGO = ALGORITMO\n",
        "\n",
        "# convertir variables del form para ser leibles por los scripts\n",
        "MODELSAMPLE = str(SAMPLE_RATE // 1000) + \"k\"\n",
        "CACHEDATA = int(CACHE_EN_VRAM)\n",
        "ONLYLATEST = int(ULTIMO_CKPT)\n",
        "\n",
        "!python3 trainset_preprocess_pipeline_print.py dataset/clean {BITRATE} {THREADCOUNT} logs/{MODELNAME} True\n",
        "!python3 extract_f0_print.py logs/{MODELNAME} {THREADCOUNT} {ALGO}\n",
        "!python3 extract_feature_print.py cpu 1 0 0 logs/{MODELNAME}\n",
        "!python3 train_nsf_sim_cache_sid_load_pretrain.py -e {MODELNAME} -sr {MODELSAMPLE} -f0 1 -bs {BATCHSIZE} -g 0 -te {MODELEPOCH} -se {EPOCHSAVE} -pg pretrained/f0G{MODELSAMPLE}.pth -pd pretrained/f0D{MODELSAMPLE}.pth -l {ONLYLATEST} -c {CACHEDATA}"
      ],
      "metadata": {
        "id": "NcH8gg_9tD5X"
      },
      "execution_count": null,
      "outputs": []
    }
  ],
  "metadata": {
    "colab": {
      "name": "RVC-alternativo-español",
      "private_outputs": true,
      "provenance": []
    },
    "kernelspec": {
      "display_name": "Python 3",
      "name": "python3"
    },
    "accelerator": "GPU",
    "gpuClass": "standard"
  },
  "nbformat": 4,
  "nbformat_minor": 0
}
